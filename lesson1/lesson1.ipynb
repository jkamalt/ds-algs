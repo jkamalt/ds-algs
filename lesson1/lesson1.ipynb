{
 "cells": [
  {
   "cell_type": "markdown",
   "id": "35da9181",
   "metadata": {},
   "source": [
    "# Алгоритм линейной регрессии. Градиентный спуск"
   ]
  },
  {
   "cell_type": "code",
   "execution_count": 1,
   "id": "6ca2c12d",
   "metadata": {},
   "outputs": [],
   "source": [
    "import numpy as np\n",
    "import sys"
   ]
  },
  {
   "cell_type": "code",
   "execution_count": 2,
   "id": "7277886e",
   "metadata": {},
   "outputs": [],
   "source": [
    "X = np.array([[1, 1, 1, 1, 1, 1, 1, 1, 1, 1],\n",
    "              [1, 1, 2, 5, 3, 0, 5, 10, 1, 2]])\n",
    "\n",
    "y = [45, 55, 50, 55, 60, 35, 75, 80, 50, 60]"
   ]
  },
  {
   "cell_type": "code",
   "execution_count": 3,
   "id": "cfcc5560",
   "metadata": {},
   "outputs": [],
   "source": [
    "def calc_mae(y, y_pred):\n",
    "    err = np.mean(np.abs(y - y_pred))\n",
    "    return err\n",
    "\n",
    "def calc_mse(y, y_pred):\n",
    "    err = np.mean((y - y_pred)**2) # <=> 1/n * np.sum((y_pred - y)**2)\n",
    "    return err"
   ]
  },
  {
   "cell_type": "markdown",
   "id": "7bf82cd7",
   "metadata": {},
   "source": [
    "### Задание 1\n",
    "\n",
    "*Проведите небольшое исследование алгоритма градиентного спуска.*\n",
    "\n",
    "*Оцените влияние значений скорости обучения (eta) и количества итераций на ошибку алгоритма. Как связаны эти два гиперпараметра между собой?*\n",
    "\n",
    "*Подберите скорость обучения и количество итераций до совпадения ответов алгоритма с результатами МНК.*\n",
    "\n",
    "*Как можно ускорить процесс вычисления весов?*"
   ]
  },
  {
   "cell_type": "code",
   "execution_count": 4,
   "id": "69980f9a",
   "metadata": {},
   "outputs": [
    {
     "name": "stdout",
     "output_type": "stream",
     "text": [
      "Number of objects = 10        \n",
      "Learning rate = 0.01        \n",
      "Initial weights = [1.  0.5] \n",
      "\n",
      "Iteration #0: W_new = [2.08 4.27], MSE = 3047.75\n",
      "Iteration #10: W_new = [ 6.67106886 10.61676385], MSE = 749.71\n",
      "Iteration #20: W_new = [ 9.49320908 10.25731657], MSE = 648.91\n",
      "Iteration #30: W_new = [11.85740092  9.83349244], MSE = 570.46\n",
      "Iteration #40: W_new = [13.86876921  9.46898661], MSE = 508.03\n",
      "Iteration #50: W_new = [15.59085668  9.15672679], MSE = 457.73\n",
      "Iteration #60: W_new = [17.07337653  8.88789585], MSE = 416.77\n",
      "Iteration #70: W_new = [18.35601294  8.65530964], MSE = 383.06\n",
      "Iteration #80: W_new = [19.47073522  8.45317196], MSE = 355.08\n",
      "Iteration #90: W_new = [20.44350656  8.27677488], MSE = 331.65\n"
     ]
    }
   ],
   "source": [
    "n = X.shape[1]\n",
    "alpha = 1e-2\n",
    "W = np.array([1, 0.5])\n",
    "print(f'Number of objects = {n} \\\n",
    "       \\nLearning rate = {alpha} \\\n",
    "       \\nInitial weights = {W} \\n')\n",
    "\n",
    "for i in range(100):\n",
    "    y_pred = np.dot(W, X)\n",
    "    err = calc_mse(y, y_pred)\n",
    "    for k in range(W.shape[0]):\n",
    "        W[k] -= alpha * (1/n * 2 * np.sum(X[k] * (y_pred - y)))\n",
    "    if i % 10 == 0:\n",
    "        alpha /= 1.1\n",
    "        print(f'Iteration #{i}: W_new = {W}, MSE = {round(err,2)}')"
   ]
  },
  {
   "cell_type": "markdown",
   "id": "8a5f4f81",
   "metadata": {},
   "source": [
    "Исследуем влияние значений скорости обучения eta на ошибку MSE. Уменьшим значение eta при таком же значений количества итераций."
   ]
  },
  {
   "cell_type": "code",
   "execution_count": 5,
   "id": "8b3eb301",
   "metadata": {},
   "outputs": [
    {
     "name": "stdout",
     "output_type": "stream",
     "text": [
      "Number of objects = 10        \n",
      "Learning rate = 0.001        \n",
      "Initial weights = [1.  0.5] \n",
      "\n",
      "Iteration #0: W_new = [1.108 0.877], MSE = 3047.75\n",
      "Iteration #10: W_new = [1.98538229 3.73754631], MSE = 1991.2\n",
      "Iteration #20: W_new = [2.65151474 5.62717924], MSE = 1473.64\n",
      "Iteration #30: W_new = [3.17602393 6.90966203], MSE = 1203.1\n",
      "Iteration #40: W_new = [3.60140403 7.80143614], MSE = 1052.67\n",
      "Iteration #50: W_new = [3.95459332 8.43516509], MSE = 963.95\n",
      "Iteration #60: W_new = [4.25330617 8.89440055], MSE = 908.59\n",
      "Iteration #70: W_new = [4.50960937 9.23308795], MSE = 872.15\n",
      "Iteration #80: W_new = [4.73200372 9.48685965], MSE = 846.97\n",
      "Iteration #90: W_new = [4.9266705  9.67974823], MSE = 828.76\n"
     ]
    }
   ],
   "source": [
    "n = X.shape[1]\n",
    "alpha = 1e-3\n",
    "W = np.array([1, 0.5])\n",
    "print(f'Number of objects = {n} \\\n",
    "       \\nLearning rate = {alpha} \\\n",
    "       \\nInitial weights = {W} \\n')\n",
    "\n",
    "for i in range(100):\n",
    "    y_pred = np.dot(W, X)\n",
    "    err = calc_mse(y, y_pred)\n",
    "    for k in range(W.shape[0]):\n",
    "        W[k] -= alpha * (1/n * 2 * np.sum(X[k] * (y_pred - y)))\n",
    "    if i % 10 == 0:\n",
    "        alpha /= 1.1\n",
    "        print(f'Iteration #{i}: W_new = {W}, MSE = {round(err,2)}')"
   ]
  },
  {
   "cell_type": "markdown",
   "id": "f0870358",
   "metadata": {},
   "source": [
    "На той же итерации ошибка MSE стала больше. Это связано с тем, что в этом случае алгоритм сходится медленнее, поэтому на том же номере итерации ошибка будет больше.\n",
    "\n",
    "Увеличим значение eta."
   ]
  },
  {
   "cell_type": "code",
   "execution_count": 6,
   "id": "a93e14e0",
   "metadata": {},
   "outputs": [
    {
     "name": "stdout",
     "output_type": "stream",
     "text": [
      "Number of objects = 10        \n",
      "Learning rate = 0.1        \n",
      "Initial weights = [1.  0.5] \n",
      "\n",
      "Iteration #0: W_new = [11.8 38.2], MSE = 3047.75\n",
      "Iteration #10: W_new = [12651.73553914 69617.0969639 ], MSE = 18310954068.05\n",
      "Iteration #20: W_new = [ 7732434.81888022 42641607.3785219 ], MSE = 9128819654907584.0\n",
      "Iteration #30: W_new = [1.06344502e+09 5.86454589e+09], MSE = 2.3279203642668515e+20\n",
      "Iteration #40: W_new = [3.00127077e+10 1.65510116e+11], MSE = 2.5451335298159486e+23\n",
      "Iteration #50: W_new = [1.55345341e+11 8.56677968e+11], MSE = 9.572295620500124e+24\n",
      "Iteration #60: W_new = [1.27742291e+11 7.04456313e+11], MSE = 9.351480126476035e+24\n",
      "Iteration #70: W_new = [1.38141953e+10 7.61806995e+10], MSE = 1.6408589528283986e+23\n",
      "Iteration #80: W_new = [1.51674189e+08 8.36432543e+08], MSE = 3.125533537874479e+19\n",
      "Iteration #90: W_new = [116395.49978363 641638.79866064], MSE = 31317286806394.58\n"
     ]
    }
   ],
   "source": [
    "n = X.shape[1]\n",
    "alpha = 1e-1\n",
    "W = np.array([1, 0.5])\n",
    "print(f'Number of objects = {n} \\\n",
    "       \\nLearning rate = {alpha} \\\n",
    "       \\nInitial weights = {W} \\n')\n",
    "\n",
    "for i in range(100):\n",
    "    y_pred = np.dot(W, X)\n",
    "    err = calc_mse(y, y_pred)\n",
    "    for k in range(W.shape[0]):\n",
    "        W[k] -= alpha * (1/n * 2 * np.sum(X[k] * (y_pred - y)))\n",
    "    if i % 10 == 0:\n",
    "        alpha /= 1.1\n",
    "        print(f'Iteration #{i}: W_new = {W}, MSE = {round(err,2)}')"
   ]
  },
  {
   "cell_type": "markdown",
   "id": "bac5be29",
   "metadata": {},
   "source": [
    "На том же номере итерации ошибка также больше. Причина в том, что при большой скорости обучения есть вероятность того, что алгоритм будет постоянно перепрыгивать точку минимума или вообще расходиться."
   ]
  },
  {
   "cell_type": "markdown",
   "id": "686acb34",
   "metadata": {},
   "source": [
    "При увеличении числа итераций ошибка будет уменьшаться. Например, на 900-ой итерации ошибка равна MSE = 43.99."
   ]
  },
  {
   "cell_type": "code",
   "execution_count": 7,
   "id": "1a50a2b0",
   "metadata": {},
   "outputs": [
    {
     "name": "stdout",
     "output_type": "stream",
     "text": [
      "Number of objects = 10        \n",
      "Learning rate = 0.01        \n",
      "Initial weights = [1.  0.5] \n",
      "\n",
      "Iteration #0: W_new = [2.08 4.27], MSE = 3047.75\n",
      "Iteration #100: W_new = [26.92778597  7.10095078], MSE = 201.46\n",
      "Iteration #200: W_new = [36.55234278  5.3556858 ], MSE = 78.6\n",
      "Iteration #300: W_new = [40.78354544  4.58842244], MSE = 52.71\n",
      "Iteration #400: W_new = [42.77180005  4.22788312], MSE = 46.47\n",
      "Iteration #500: W_new = [43.76430815  4.04790708], MSE = 44.77\n",
      "Iteration #600: W_new = [44.28770223  3.95299763], MSE = 44.25\n",
      "Iteration #700: W_new = [44.57781114  3.90039085], MSE = 44.08\n",
      "Iteration #800: W_new = [44.74605536  3.86988236], MSE = 44.02\n",
      "Iteration #900: W_new = [44.84771779  3.85144744], MSE = 43.99\n"
     ]
    }
   ],
   "source": [
    "n = X.shape[1]\n",
    "alpha = 1e-2\n",
    "W = np.array([1, 0.5])\n",
    "print(f'Number of objects = {n} \\\n",
    "       \\nLearning rate = {alpha} \\\n",
    "       \\nInitial weights = {W} \\n')\n",
    "\n",
    "for i in range(1000):\n",
    "    y_pred = np.dot(W, X)\n",
    "    err = calc_mse(y, y_pred)\n",
    "    for k in range(W.shape[0]):\n",
    "        W[k] -= alpha * (1/n * 2 * np.sum(X[k] * (y_pred - y)))\n",
    "    if i % 100 == 0:\n",
    "        alpha /= 1.1\n",
    "        print(f'Iteration #{i}: W_new = {W}, MSE = {round(err,2)}')"
   ]
  },
  {
   "cell_type": "markdown",
   "id": "531c5cb7",
   "metadata": {},
   "source": [
    "При уменьшении скорости обучения eta алгоритм будет медленнее приближаться к точке минимума, поэтому для сходимости потребуется большее количество итерации. Т.е. чем меньше скорость обучение, тем больше число итерации.\n",
    "\n",
    "И наоборот, при увеличении скорости обучения алгоритм будет приближаться к точке минимума быстрее и количество итераций будет меньше. Однако в этом случае появляется вероятность того, что алгоритм будет постоянно перепрыгивать точку минимума или вообще расходиться."
   ]
  },
  {
   "cell_type": "markdown",
   "id": "1743a21c",
   "metadata": {},
   "source": [
    "Подберем значения скорости обучения eta и количества итерации до совпадения с результатом МНК. Для МНК получились такие результаты\n",
    "\n",
    "W = [45.0625,  3.8125])\n",
    "\n",
    "MSE = 43.96874999999999."
   ]
  },
  {
   "cell_type": "code",
   "execution_count": 8,
   "id": "32fcaaa5",
   "metadata": {},
   "outputs": [
    {
     "name": "stdout",
     "output_type": "stream",
     "text": [
      "Number of objects = 10        \n",
      "Learning rate = 0.01        \n",
      "Initial weights = [1.  0.5] \n",
      "\n",
      "Iteration #0: W_new = [2.08 4.27], MSE = 3047.75\n",
      "Iteration #100: W_new = [26.92778597  7.10095078], MSE = 201.46\n",
      "Iteration #200: W_new = [36.55234278  5.3556858 ], MSE = 78.6\n",
      "Iteration #300: W_new = [40.78354544  4.58842244], MSE = 52.71\n",
      "Iteration #400: W_new = [42.77180005  4.22788312], MSE = 46.47\n",
      "Iteration #500: W_new = [43.76430815  4.04790708], MSE = 44.77\n",
      "Iteration #600: W_new = [44.28770223  3.95299763], MSE = 44.25\n",
      "Iteration #700: W_new = [44.57781114  3.90039085], MSE = 44.08\n",
      "Iteration #800: W_new = [44.74605536  3.86988236], MSE = 44.02\n",
      "Iteration #900: W_new = [44.84771779  3.85144744], MSE = 43.99\n",
      "Iteration #1000: W_new = [44.91148301  3.8398846 ], MSE = 43.98\n",
      "Iteration #1100: W_new = [44.95285668  3.83238213], MSE = 43.97\n",
      "Iteration #1200: W_new = [44.98054088  3.82736202], MSE = 43.97\n",
      "Iteration #1300: W_new = [44.99959036  3.82390769], MSE = 43.97\n",
      "Iteration #1400: W_new = [45.01303554  3.82146962], MSE = 43.97\n",
      "Iteration #1500: W_new = [45.02274674  3.81970864], MSE = 43.97\n",
      "Iteration #1600: W_new = [45.02990957  3.81840977], MSE = 43.97\n",
      "Iteration #1700: W_new = [45.0352944   3.81743332], MSE = 43.97\n",
      "Iteration #1800: W_new = [45.03941327  3.81668642], MSE = 43.97\n",
      "Iteration #1900: W_new = [45.04261374  3.81610607], MSE = 43.97\n",
      "\n",
      "Iteration #1999: W_new = [45.04511285  3.81565289], MSE = 43.97\n"
     ]
    }
   ],
   "source": [
    "n = X.shape[1]\n",
    "alpha = 1e-2\n",
    "W = np.array([1, 0.5])\n",
    "print(f'Number of objects = {n} \\\n",
    "       \\nLearning rate = {alpha} \\\n",
    "       \\nInitial weights = {W} \\n')\n",
    "\n",
    "for i in range(2000):\n",
    "    y_pred = np.dot(W, X)\n",
    "    err = calc_mse(y, y_pred)\n",
    "    for k in range(W.shape[0]):\n",
    "        W[k] -= alpha * (1/n * 2 * np.sum(X[k] * (y_pred - y)))\n",
    "    if i % 100 == 0:\n",
    "        alpha /= 1.1\n",
    "        print(f'Iteration #{i}: W_new = {W}, MSE = {round(err,2)}')\n",
    "\n",
    "print(f'\\nIteration #{i}: W_new = {W}, MSE = {round(err,2)}')"
   ]
  },
  {
   "cell_type": "markdown",
   "id": "2e7226df",
   "metadata": {},
   "source": [
    "Для скорости обучения eta = 1e-2 и количества итерации 2000 результат примерно совпадает с МНК."
   ]
  },
  {
   "cell_type": "markdown",
   "id": "192a072f",
   "metadata": {},
   "source": [
    "Для вычисления весов можно использовать матричные операции вместо циклов для ускорения вычисления."
   ]
  },
  {
   "cell_type": "markdown",
   "id": "ba098d6c",
   "metadata": {},
   "source": [
    "### Задание 2"
   ]
  },
  {
   "cell_type": "markdown",
   "id": "c35312e1",
   "metadata": {},
   "source": [
    "*В этом коде мы избавляемся от итераций по весам, но тут есть ошибка, исправьте ее:*"
   ]
  },
  {
   "cell_type": "code",
   "execution_count": 9,
   "id": "6afdb07e",
   "metadata": {},
   "outputs": [
    {
     "name": "stdout",
     "output_type": "stream",
     "text": [
      "0 [2.08 4.27] 3047.75\n",
      "100 [26.92778597  7.10095078] 201.4630556112843\n",
      "200 [36.55234278  5.3556858 ] 78.59924594677099\n",
      "300 [40.78354544  4.58842244] 52.711728865094166\n",
      "400 [42.77180005  4.22788312] 46.47126036151425\n",
      "500 [43.76430815  4.04790708] 44.77157784175431\n",
      "600 [44.28770223  3.95299763] 44.25442472488509\n",
      "700 [44.57781114  3.90039085] 44.080439582646086\n",
      "800 [44.74605536  3.86988236] 44.01631755962738\n",
      "900 [44.84771779  3.85144744] 43.99064649975398\n",
      "1000 [44.91148301  3.8398846 ] 43.979567406617754\n"
     ]
    }
   ],
   "source": [
    "n = X.shape[1]\n",
    "eta = 1e-2\n",
    "w = np.array([1, 0.5])\n",
    "for i in range(1001):\n",
    "    y_pred = np.dot(w, X)\n",
    "    err = calc_mse(y, y_pred)\n",
    "    w -= (eta * (1/n * 2 * np.dot(X, (y_pred - y))))\n",
    "    if i % 100 == 0:\n",
    "        eta /= 1.1\n",
    "        print(i, w, err)"
   ]
  },
  {
   "cell_type": "markdown",
   "id": "efdd67ba",
   "metadata": {},
   "source": [
    "Результат совпадает с предыдущим вариантом."
   ]
  },
  {
   "cell_type": "code",
   "execution_count": 10,
   "id": "ad771e02",
   "metadata": {},
   "outputs": [
    {
     "name": "stdout",
     "output_type": "stream",
     "text": [
      "Number of objects = 10        \n",
      "Learning rate = 0.01        \n",
      "Initial weights = [1.  0.5] \n",
      "\n",
      "Iteration #0: W_new = [2.08 4.27], MSE = 3047.75\n",
      "Iteration #100: W_new = [26.92778597  7.10095078], MSE = 201.46\n",
      "Iteration #200: W_new = [36.55234278  5.3556858 ], MSE = 78.6\n",
      "Iteration #300: W_new = [40.78354544  4.58842244], MSE = 52.71\n",
      "Iteration #400: W_new = [42.77180005  4.22788312], MSE = 46.47\n",
      "Iteration #500: W_new = [43.76430815  4.04790708], MSE = 44.77\n",
      "Iteration #600: W_new = [44.28770223  3.95299763], MSE = 44.25\n",
      "Iteration #700: W_new = [44.57781114  3.90039085], MSE = 44.08\n",
      "Iteration #800: W_new = [44.74605536  3.86988236], MSE = 44.02\n",
      "Iteration #900: W_new = [44.84771779  3.85144744], MSE = 43.99\n",
      "Iteration #1000: W_new = [44.91148301  3.8398846 ], MSE = 43.98\n"
     ]
    }
   ],
   "source": [
    "n = X.shape[1]\n",
    "alpha = 1e-2\n",
    "W = np.array([1, 0.5])\n",
    "print(f'Number of objects = {n} \\\n",
    "       \\nLearning rate = {alpha} \\\n",
    "       \\nInitial weights = {W} \\n')\n",
    "\n",
    "for i in range(1001):\n",
    "    y_pred = np.dot(W, X)\n",
    "    err = calc_mse(y, y_pred)\n",
    "    for k in range(W.shape[0]):\n",
    "        W[k] -= alpha * (1/n * 2 * np.sum(X[k] * (y_pred - y)))\n",
    "    if i % 100 == 0:\n",
    "        alpha /= 1.1\n",
    "        print(f'Iteration #{i}: W_new = {W}, MSE = {round(err,2)}')"
   ]
  },
  {
   "cell_type": "markdown",
   "id": "ad87af94",
   "metadata": {},
   "source": [
    "### Задание 3"
   ]
  },
  {
   "cell_type": "markdown",
   "id": "35690c35",
   "metadata": {},
   "source": [
    "*Вместо того, чтобы задавать количество итераций, задайте условие остановки алгоритма - когда ошибка за итерацию начинает изменяться ниже определенного порога. Сколько нужно сделать итераций, если установить допустимое отклонение mse в размере diff = 1e-6, а значение eta = 1e-2?*"
   ]
  },
  {
   "cell_type": "code",
   "execution_count": 11,
   "id": "9051b8fa",
   "metadata": {},
   "outputs": [
    {
     "name": "stdout",
     "output_type": "stream",
     "text": [
      "Number of objects = 10        \n",
      "Learning rate = 0.01        \n",
      "Initial weights = [1.  0.5] \n",
      "\n",
      "Iteration #0: W_new = [2.08 4.27], MSE = 3047.75\n",
      "Iteration #100: W_new = [28.38281518  6.83710367], MSE = 177.43\n",
      "Iteration #200: W_new = [38.38986469  5.02247953], MSE = 65.33\n",
      "Iteration #300: W_new = [42.39314129  4.29654705], MSE = 47.39\n",
      "Iteration #400: W_new = [43.99463466  4.00614091], MSE = 44.52\n",
      "Iteration #500: W_new = [44.63530512  3.8899652 ], MSE = 44.06\n",
      "Iteration #600: W_new = [44.89160255  3.84348962], MSE = 43.98\n",
      "Iteration #700: W_new = [44.99413322  3.82489726], MSE = 43.97\n",
      "Iteration #800: W_new = [45.03515017  3.81745947], MSE = 43.97\n",
      "Iteration #900: W_new = [45.05155882  3.81448401], MSE = 43.97\n",
      "\n",
      "Iteration #904: W_new = [45.05195252  3.81441262], MSE = 43.97\n"
     ]
    }
   ],
   "source": [
    "n = X.shape[1]\n",
    "eta = 1e-2\n",
    "diff = 1e-6\n",
    "W = np.array([1, 0.5])\n",
    "\n",
    "print(f'Number of objects = {n} \\\n",
    "       \\nLearning rate = {eta} \\\n",
    "       \\nInitial weights = {W} \\n')\n",
    "\n",
    "i = 0\n",
    "err_prev = sys.float_info.max\n",
    "while True:\n",
    "    y_pred = np.dot(W, X)\n",
    "    err = calc_mse(y, y_pred)\n",
    "    W -= (eta * (1/n * 2 * np.dot(X, (y_pred - y))))\n",
    "    if i % 100 == 0:\n",
    "        print(f'Iteration #{i}: W_new = {W}, MSE = {round(err,2)}')\n",
    "        \n",
    "    if np.fabs(err - err_prev) < diff:\n",
    "        break\n",
    "    \n",
    "    err_prev = err\n",
    "    i += 1\n",
    "\n",
    "print(f'\\nIteration #{i}: W_new = {W}, MSE = {round(err,2)}')"
   ]
  },
  {
   "cell_type": "markdown",
   "id": "a4ee7aab",
   "metadata": {},
   "source": [
    "Для заданных значений diff = 1e-6 и eta = 1e-2 требуется 905 итераций, чтобы ошибка перестала меняться с заданной точностью diff."
   ]
  }
 ],
 "metadata": {
  "kernelspec": {
   "display_name": "Python 3 (ipykernel)",
   "language": "python",
   "name": "python3"
  },
  "language_info": {
   "codemirror_mode": {
    "name": "ipython",
    "version": 3
   },
   "file_extension": ".py",
   "mimetype": "text/x-python",
   "name": "python",
   "nbconvert_exporter": "python",
   "pygments_lexer": "ipython3",
   "version": "3.10.0"
  }
 },
 "nbformat": 4,
 "nbformat_minor": 5
}
